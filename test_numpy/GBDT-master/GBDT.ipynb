{
 "metadata": {
  "kernelspec": {
   "display_name": "Python 2",
   "language": "python",
   "name": "python2"
  },
  "language_info": {
   "codemirror_mode": {
    "name": "ipython",
    "version": 2
   },
   "file_extension": ".py",
   "mimetype": "text/x-python",
   "name": "python",
   "nbconvert_exporter": "python",
   "pygments_lexer": "ipython2",
   "version": "2.7.9"
  },
  "name": "",
  "signature": "sha256:b18827910f96e60dead5e85f2870086d73e781b88f2d839a689a24dcadc66188"
 },
 "nbformat": 3,
 "nbformat_minor": 0,
 "worksheets": [
  {
   "cells": [
    {
     "cell_type": "heading",
     "level": 2,
     "metadata": {},
     "source": [
      "\u68af\u5ea6\u63d0\u5347\u7b97\u6cd5"
     ]
    },
    {
     "cell_type": "markdown",
     "metadata": {
      "collapsed": true
     },
     "source": [
      "Freidman\u63d0\u51fa\u4e86\u68af\u5ea6\u63d0\u5347\u7b97\u6cd5\uff0c\u8be5\u65b9\u6cd5\u662f\u5229\u7528\u6700\u901f\u4e0b\u964d\u6cd5\u7684\u8fd1\u4f3c\u65b9\u6cd5\uff0c\u5176\u5173\u952e\u662f\u5229\u7528\u635f\u5931\u51fd\u6570\u7684\u8d1f\u68af\u5ea6\u5728\u5f53\u524d\u6a21\u578b\u7684\u503c  \n",
      "\n",
      "$$-[{\\partial L(y,f(x_i)) \\over \\partial f(x_i)}]_{f(x) = f_{m-1}(x)}$$\n",
      "\n",
      "\u4f5c\u4e3a\u56de\u5f52\u95ee\u9898\u7b97\u6cd5\u4e2d\u7684\u6b8b\u5dee\u7684\u8fd1\u4f3c\u503c\uff0c\u62df\u5408\u4e00\u4e2a\u56de\u5f52\u6a21\u578b\u3002\n",
      "\n",
      "\u5176\u7b97\u6cd5\u6d41\u7a0b\u5982\u4e0b\uff1a\n",
      "1. $F_0(x) = argmin_\\rho \\sum _{i=1}^N L(y_i, \\rho)$\n",
      "2. For $m = 1$ to $M$ do:  \n",
      "3. $\\qquad \\tilde y_i = -[{\\partial L(y,F(x_i)) \\over \\partial F(x_i)}]_{F(x) = F_{m-1}(x)}, i = 1, N$  \n",
      "4. $\\qquad a_m = argmin_{a,\\beta}\\sum_{i=1}^N[\\tilde y_i - \\beta h(x_i; a)]^2$ \n",
      "5. $\\qquad \\rho_m = argmin_\\rho \\sum_{i=1}^N L(y_i, F_{m-1}(x_i) + \\rho h(x_i; a_m))$ \n",
      "6. $\\qquad F_m(x) = F_{m-1}(x) + \\rho_m h(x;a_m)$\n",
      "7. endFor  \n",
      "endAlgorighm"
     ]
    },
    {
     "cell_type": "markdown",
     "metadata": {},
     "source": [
      "\u5176\u4e2d$h(x_i;a_m)$\u8868\u793a\u57fa\u672c\u5206\u7c7b\u5668\uff08weak learner or base learner\uff09\uff0c4\u4e2d$a_m$\u8868\u793a\u62df\u5408\u8d1f\u68af\u5ea6\u80fd\u529b\u6700\u597d\u7684\u5206\u7c7b\u5668\u53c2\u6570  \n",
      "\u8d1f\u68af\u5ea6\u53ea\u662f\u8868\u793a\u4e0b\u964d\u7684\u65b9\u5411\uff0c\u4f46\u662f\u4e0b\u964d\u591a\u5c11\u6ca1\u6709\u786e\u5b9a\uff0c5\u4e2d$\\rho_m$\u53ef\u4ee5\u8ba4\u4e3a\u662f\u4e0b\u964d\u6700\u5feb\u7684\u6b65\u957f\uff0c\u53ef\u4ee5\u8ba9Loss\u6700\u5c0f\uff0c\u53ef\u4ee5\u7528\u7ebf\u6027\u641c\u7d22\u7684\u65b9\u5f0f\u6765\u4f30\u8ba1$\\rho_m$\u7684\u503c"
     ]
    },
    {
     "cell_type": "markdown",
     "metadata": {},
     "source": [
      "\u4e3a\u4f55\u8fd9\u91cc\u4e0d\u76f4\u63a5\u5229\u7528\u8d1f\u68af\u5ea6\u6765\u8c03\u8282\uff0c\u800c\u662f\u9700\u8981\u7528\u4e00\u4e2a\u5206\u7c7b\u5668\u6765\u62df\u5408\u5462\uff1f\u56e0\u4e3a\u8fd9\u91cc\u7684\u8d1f\u68af\u5ea6\u662f\u5728\u8bad\u7ec3\u96c6\u4e0a\u6c42\u51fa\u7684\uff0c\u4e0d\u80fd\u88ab\u6cdb\u5316\u6d4b\u8bd5\u96c6\u4e2d\u3002\u6211\u4eec\u7684\u53c2\u6570\u662f\u5728\u4e00\u4e2a\u51fd\u6570\u7a7a\u95f4\u91cc\u9762\uff0c\u4e0d\u80fd\u4f7f\u7528\u4f8b\u5982SGD\u8fd9\u6837\u7684\u6c42\u89e3\u65b9\u5f0f\u3002\u4f7f\u7528\u4e00\u4e2a\u5206\u7c7b\u5668\u6765\u62df\u5408\uff0c\u662f\u4e00\u4e2a\u6cdb\u5316\u7684\u65b9\u5f0f\u3002"
     ]
    },
    {
     "cell_type": "markdown",
     "metadata": {},
     "source": [
      "####\u56de\u5f52\u6811\n",
      "\u5f53\u6211\u4eec\u7684\u57fa\u672c\u5206\u7c7b\u5668\u662f\u4e00\u4e2a\u5305\u542bJ\u4e2a\u8282\u70b9\u7684\u56de\u5f52\u6811\u65f6\uff0c\u56de\u5f52\u6811\u6a21\u578b\u53ef\u4ee5\u8868\u793a\u4e3a  \n",
      "$$h(x;\\{b_j, R_j\\}_1^J) = \\sum_{b=j}^Jb_jI(x\\in R_j) \\qquad (8)$$ "
     ]
    },
    {
     "cell_type": "markdown",
     "metadata": {},
     "source": [
      "\u5176\u4e2d$\\{ R_j \\}_1^J$\u4e0d\u76f8\u4ea4\u7684\u533a\u57df\uff0c\u5b83\u4eec\u7684\u96c6\u5408\u8986\u76d6\u4e86\u9884\u6d4b\u503c\u7684\u7a7a\u95f4\uff0c$\\{ b_j \\}_1^J$\u662f\u53f6\u5b50\u8282\u70b9\u7684\u503c\uff0c\u53ef\u4ee5\u8ba4\u4e3a\u662f\u6a21\u578b$h$\u7684\u7cfb\u6570"
     ]
    },
    {
     "cell_type": "markdown",
     "metadata": {},
     "source": [
      "\u5229\u7528\u56de\u5f52\u6811\u6a21\u578b\uff0c\u7b97\u6cd5\u6d41\u7a0b6\u4e2d\u7684\u516c\u5f0f\u53ef\u4ee5\u88ab\u66ff\u6362\u4e3a\uff1a$$F_m(x) = F_{m-1}(x) + \\rho_m \\sum_{j=1}^J b_{jm}I(x \\in R_{jm})\\qquad (9)$$ "
     ]
    },
    {
     "cell_type": "markdown",
     "metadata": {},
     "source": [
      "\u5176\u4e2d$\\{ R_{jm} \\}_1^J$\u662f\u7b2cm\u6b21\u8fed\u4ee3\u751f\u6210\u7684\u6811\u6240\u4ea7\u751f\u7684\u533a\u57df\u3002\u7b2cm\u6b21\u8fed\u4ee3\u7684\u6811\u7528\u6765\u9884\u6d4b\u6d41\u7a0b3\u4e2d\u7531\u6d41\u7a0b4\u4e2d\u5e73\u65b9\u8bef\u5dee\u4ea7\u751f\u7684$\\{\\tilde y_i\\}_i^N$  "
     ]
    },
    {
     "cell_type": "markdown",
     "metadata": {},
     "source": [
      "$\\{ b_{jm}\\}$\u53ef\u4ee5\u88ab\u8868\u793a\u4e3a $$b_{jm} = ave_{x_i \\in R_{jm}} \\tilde y_i$$ \u5373\u7528\u5e73\u5747\u503c\u8868\u793a\u8be5\u53f6\u5b50\u8282\u70b9\u62df\u5408\u7684\u503c"
     ]
    },
    {
     "cell_type": "markdown",
     "metadata": {},
     "source": [
      "\u6709\u4e86\u4e0b\u964d\u7684\u65b9\u5411\uff0c\u6211\u4eec\u8fd8\u9700\u8981\u6700\u597d\u7684\u6b65\u957f\uff0c\u7f29\u653e\u56e0\u5b50$\\rho_m$\u662f\u6d41\u7a0b5\u4e2d\u7ebf\u6027\u641c\u7d22\u65b9\u5f0f\u7684\u4e00\u79cd\u89e3\u51b3\u65b9\u6848"
     ]
    },
    {
     "cell_type": "markdown",
     "metadata": {},
     "source": [
      "\u4ece\u4e0a\u9762\u53ef\u4ee5\u770b\u51fa\uff0c\u6211\u4eec\u662f\u5148\u6c42\u7684$b_{jm}$\uff0c\u7136\u540e\u5728\u6c42\u89e3$\\rho_m$\uff0c\u6211\u4eec\u80fd\u5426\u540c\u65f6\u6c42\u89e3\u5462\uff1f  \n",
      "\u53e6$\\gamma_{jm} = \\rho_{m}b_{jm}$\uff0c\u516c\u5f0f9\u53ef\u4ee5\u88ab\u8868\u793a\u4e3a\uff1a$$F_m(x) = F_{m-1}(x) + \\sum_{j=1}^J \\gamma_{jm}I(x \\in R_{jm})\\qquad (10)$$ "
     ]
    },
    {
     "cell_type": "markdown",
     "metadata": {},
     "source": [
      "\u901a\u8fc7\u4f18\u5316\u5982\u4e0b\u516c\u5f0f\u6765\u83b7\u53d6\u6700\u4f18\u7684\u7cfb\u6570$\\gamma_{jm}$\uff1a\n",
      "$$\\{\\gamma_{jm}\\}_1^J = argmin_{\\ \\gamma_j {\\ _1^J}}\\sum_{i=1}^N L\\left(y_i, F_{m-1}(x_i) + \\sum_{j=1}^J\\gamma_jI(x \\in R_{jm})\\right)\\qquad (11)$$"
     ]
    },
    {
     "cell_type": "markdown",
     "metadata": {},
     "source": [
      "\u7531\u4e8e\u56de\u5f52\u6811\u4ea7\u751f\u7684\u53f6\u5b50\u8282\u70b9\u5404\u4e2a\u533a\u57df\u4e4b\u95f4\u662f\u4e0d\u76f8\u4ea4\u7684\uff0c\u4e14\u6240\u6709\u7684\u6837\u672c\u6700\u7ec8\u90fd\u4f1a\u5c5e\u4e8e\u67d0\u4e2a\u53f6\u5b50\u8282\u70b9\uff0c\u6240\u4ee5\u516c\u5f0f11\u53ef\u4ee5\u8868\u793a\u4e3a\uff1a\n",
      "$$\\gamma_{jm} = argmin_\\gamma \\sum_{x_i\\in R_{jm}} L(y_i, F_{m-1}(x_i) + \\gamma)$$"
     ]
    },
    {
     "cell_type": "markdown",
     "metadata": {},
     "source": [
      "\u7ed9\u5b9a\u5f53\u524d$F_{m-1}(x_i)$\uff0c$\\gamma_{jm}$\u53ef\u4ee5\u4f5c\u4e3a\u53f6\u5b50\u8282\u70b9\u7684\u503c\uff0c\u8be5\u503c\u53ef\u4ee5\u770b\u505a\u662f\u57fa\u4e8e\u635f\u5931\u51fd\u6570L\u7684\u6bcf\u4e2a\u53f6\u5b50\u8282\u70b9\u7684\u6700\u7406\u60f3\u7684\u5e38\u6570\u66f4\u65b0\u503c\uff0c\u4e5f\u53ef\u4ee5\u8ba4\u4e3a$\\gamma_{jm}$\u662f\u5373\u6709\u4e0b\u964d\u65b9\u5411\u53c8\u6709\u4e0b\u964d\u6b65\u957f\u7684\u503c\u3002"
     ]
    },
    {
     "cell_type": "markdown",
     "metadata": {},
     "source": [
      "\u7efc\u4e0a\uff0c\u7528\u56de\u5f52\u6811\u4f5c\u4e3a\u57fa\u672c\u5206\u7c7b\u5668\u7684\u68af\u5ea6\u63d0\u5347\u7b97\u6cd5\u6d41\u7a0b\u53ef\u4ee5\u5982\u4e0b\u8868\u793a\uff1a"
     ]
    },
    {
     "cell_type": "markdown",
     "metadata": {},
     "source": [
      "1. $F_0(x) = argmin_\\rho \\sum _{i=1}^N L(y_i, \\rho)$\n",
      "2. For $m = 1$ to $M$ do:  \n",
      "3. $\\qquad \\tilde y_i = -[{\\partial L(y,F(x_i)) \\over \\partial F(x_i)}]_{F(x) = F_{m-1}(x)}, i = 1, N$  \n",
      "4. $\\qquad \\{R_{jm}\\}_1^J = J-terminal\\, node\\, tree(\\{ \\tilde y_i, x_i \\}_i^N)$ \n",
      "5. $\\qquad \\gamma_{jm} = argmin_\\gamma \\sum_{x_i\\in R_{jm}} L(y_i, F_{m-1}(x_i) + \\gamma)$\n",
      "6. $\\qquad F_m(x) = F_{m-1}(x) + \\sum_{j=1}^J \\gamma_{jm}I(x \\in R_{jm})$\n",
      "7. endFor  \n",
      "endAlgorighm"
     ]
    },
    {
     "cell_type": "markdown",
     "metadata": {},
     "source": [
      "\u5176\u4e2d3\u662f\u8ba1\u7b97\u6b8b\u5dee\uff08\u5229\u7528\u635f\u5931\u51fd\u6570\u7684\u8d1f\u68af\u5ea6\u5728\u5f53\u524d\u6a21\u578b\u7684\u503c\u4f5c\u4e3a\u6b8b\u5dee\u7684\u8fd1\u4f3c\u503c\uff09\uff0c4\u662f\u62df\u5408\u4e00\u9897\u542b\u6709J\u4e2a\u53f6\u5b50\u8282\u70b9\u7684\u56de\u5f52\u6811\uff0c5\u662f\u4f30\u8ba1\u56de\u5f52\u6811\u53f6\u5b50\u8282\u70b9\u7684\u503c"
     ]
    },
    {
     "cell_type": "markdown",
     "metadata": {},
     "source": [
      "\u4e0b\u9762\u6211\u4eec\u770b\u4e00\u4e0b\u4e8c\u5143\u5206\u7c7b\u3001\u591a\u5143\u5206\u7c7b\u3001\u56de\u5f52\u4e2d\u6b8b\u5dee\u7684\u8ba1\u7b97\u3001\u53f6\u5b50\u8282\u70b9\u503c\u7684\u4f30\u8ba1\u3002"
     ]
    },
    {
     "cell_type": "heading",
     "level": 4,
     "metadata": {},
     "source": [
      "Two-class logistic regression and classification"
     ]
    },
    {
     "cell_type": "markdown",
     "metadata": {},
     "source": [
      "\u6211\u4eec\u7528negative binomial log-likehood\u4f5c\u4e3a\u6211\u4eec\u7684\u635f\u5931\u51fd\u6570\uff1a\n",
      "$$L(y, F) = log(1 + exp(-2yF)), y \\in {-1, 1}\\qquad (12)$$"
     ]
    },
    {
     "cell_type": "markdown",
     "metadata": {},
     "source": [
      "\u5176\u4e2d$$F(x) = {1\\over2}log\\left[{Pr(y=1|x) \\over Pr(y=-1|x)}\\right]\\qquad (13)$$\n",
      "\u516c\u5f0f13\u662flogit\u51fd\u6570\uff0clog odds"
     ]
    },
    {
     "cell_type": "markdown",
     "metadata": {},
     "source": [
      "\u5982\u4e0a\u516c\u5f0f\u662fFreidman\u7684\u8bba\u6587\u4e2d\u4f7f\u7528\u7684\u516c\u5f0f\uff0c\u6211\u8ba4\u4e3a\u4f7f\u7528\u5728\u903b\u8f91\u56de\u5f52\u4e2d\u5e38\u89c1\u7684$L(y, F) = ylogF + (1-y)log(1-F)$\uff0c\u5176\u4e2d$F(z) ={ 1\\over{1+exp(-z)}}$\u4e5f\u53ef\u4ee5"
     ]
    },
    {
     "cell_type": "markdown",
     "metadata": {},
     "source": [
      "\u8ba1\u7b97\u6b8b\u5dee\uff1a$$\\tilde y_i = -[{\\partial L(y,F(x_i)) \\over \\partial F(x_i)}]_{F(x) = F_{m-1}(x)} = {2y_i\\over 1+exp(2y_iF_{m-1}(x_i))}\\qquad(14)$$"
     ]
    },
    {
     "cell_type": "markdown",
     "metadata": {},
     "source": [
      "\u53f6\u5b50\u8282\u70b9\u503c\u7684\u4f30\u8ba1\uff1a\n",
      "$$\\gamma_jm = argmin_\\gamma \\sum_{x_i \\in R_{jm}} log(1+exp(-2y_i(F_{m-1}(x_i) + \\gamma)))\\qquad (15)$$"
     ]
    },
    {
     "cell_type": "markdown",
     "metadata": {},
     "source": [
      "\u53ef\u4ee5\u901a\u8fc7\u4e00\u6b65Newton-Raphson\u6765\u8fd1\u4f3c\u516c\u5f0f15\uff0c\u4f30\u8ba1\u7ed3\u679c\u4e3a\uff1a\n",
      "$$\\gamma_{jm} = {\\sum_{x_i \\in R_{jm}}\\tilde y_i \\over {\\sum_{x_i \\in R_{jm}}}|\\tilde y_i|(2-|\\tilde y_i|)}$$"
     ]
    },
    {
     "cell_type": "markdown",
     "metadata": {},
     "source": [
      "\u6700\u7ec8\u5f97\u5230\u7684$F_M(x)$\u4e0e\u5bf9\u6570\u51e0\u7387 log-odds\u76f8\u5173\uff0c\u6211\u4eec\u53ef\u4ee5\u7528\u6765\u8fdb\u884c\u6982\u7387\u4f30\u8ba1\n",
      "$$F(x) = {1\\over2}log\\left({p \\over 1-p}\\right)$$\n",
      "$$e^{2F(x)} = {p\\over(1-p)}$$\n",
      "$$P_+(x) = p = {e^{2F(x)}\\over 1+e^{2F(x)}} = {1\\over1+e^{-2F(x)}}$$\n",
      "$$P_-(x) = 1-p = {1\\over1+e^{2F(x)}}$$"
     ]
    },
    {
     "cell_type": "markdown",
     "metadata": {},
     "source": [
      "\u6709\u4e86\u6982\u7387\u4e4b\u540e\uff0c\u6211\u4eec\u63a5\u4e0b\u6765\u5c31\u53ef\u4ee5\u5229\u7528\u6982\u7387\u8fdb\u884c\u5206\u7c7b"
     ]
    },
    {
     "cell_type": "heading",
     "level": 4,
     "metadata": {},
     "source": [
      "Multi-class logistic regression and classification"
     ]
    },
    {
     "cell_type": "markdown",
     "metadata": {},
     "source": [
      "\u6211\u4eec\u4f7f\u7528multi-class log-loss\u4f5c\u4e3a\u635f\u5931\u51fd\u6570\uff1a\n",
      "$$L(\\{y_k, F_k(x)\\}_1^K) = -\\sum_{k=1}^K y_klogp_k(x)\\qquad(16)$$"
     ]
    },
    {
     "cell_type": "markdown",
     "metadata": {},
     "source": [
      "\u5176\u4e2d\u4f7f\u7528softmax\u6765\u8ba1\u7b97\u6982\u7387\uff1a$$p_k(x) = exp(F_k(x)) / \\sum_{l=1}^Kexp(F_l(x))\\qquad(17)$$"
     ]
    },
    {
     "cell_type": "markdown",
     "metadata": {},
     "source": [
      "\u4ece\u516c\u5f0f17\u53ef\u4ee5\u5f97\u51fa\uff0c\u5bf9\u4e8e\u591a\u5206\u7c7b\u95ee\u9898\uff0c\u6211\u4eec\u9700\u8981\u4e3a\u6bcf\u4e2a\u7c7b\u522b\u521b\u5efa\u4e00\u9897\u56de\u5f52\u6811$F_l(x)\\, l=1,2,...,k$"
     ]
    },
    {
     "cell_type": "markdown",
     "metadata": {},
     "source": [
      "\u8ba1\u7b97\u6b8b\u5dee\uff1a\n",
      "$$\\tilde y_{ik} = -[{\\partial L(\\{y_{il},F_l(x_i)\\}_{l=1}^K) \\over \\partial F_k(x_i)}]_{\\{F_l(x) = F_{l, m-1(x)}\\}_1^K} = y_{ik} - p_{k,m-1(x_i)}\\qquad (18)$$"
     ]
    },
    {
     "cell_type": "markdown",
     "metadata": {},
     "source": [
      "\u6211\u4eec\u5047\u5b9a\u5171\u5206\u4e3a3\u7c7b\uff0c\u90a3\u4e48logloss\u4e3a\uff1a\n",
      "$$L = -y_1log{exp(F_1(x))\\over exp(F_1(x)) + exp(F_1(x)) + exp(F_1(x))} -y_2log{exp(F_2(x))\\over exp(F_1(x)) + exp(F_1(x)) + exp(F_1(x))} -y_3log{exp(F_3(x))\\over exp(F_1(x)) + exp(F_1(x)) + exp(F_1(x))}$$"
     ]
    },
    {
     "cell_type": "markdown",
     "metadata": {},
     "source": [
      "$${\\partial L \\over \\partial F_1(x)} = -y_1 + y_1p_1 + y_2p_2 + y_3p_3$$\n",
      "$${\\partial L \\over \\partial F_2(x)} = y_1p_1 - y_2 + y_2p_2 + y_3p_3$$\n",
      "$${\\partial L \\over \\partial F_3(x)} = y_1p_1 + y_2p_2 - y_3 + y_3p_3$$"
     ]
    },
    {
     "cell_type": "markdown",
     "metadata": {},
     "source": [
      "\u5982\u679c\u5f53\u671f\u6837\u672c\u7684\u7c7b\u522b\u4e3a(1,0,0)\uff0c\u90a3\u4e48\n",
      "$${\\partial L \\over \\partial F_1(x)} = -1 + p1$$\n",
      "$${\\partial L \\over \\partial F_2(x)} = p_2$$\n",
      "$${\\partial L \\over \\partial F_3(x)} = p_3$$"
     ]
    },
    {
     "cell_type": "markdown",
     "metadata": {},
     "source": [
      "\u53d6\u8d1f\u68af\u5ea6\uff0c\u5219\n",
      "$$-{\\partial L \\over \\partial F_1(x)} = 1 - p_1$$\n",
      "$$-{\\partial L \\over \\partial F_2(x)} = -p_2 = 0 - p_2$$\n",
      "$$-{\\partial L \\over \\partial F_3(x)} = -p_3 = 0 - p_3$$"
     ]
    },
    {
     "cell_type": "markdown",
     "metadata": {},
     "source": [
      "\u7b26\u5408\u516c\u5f0f18\u4e2d\u7684$\\tilde y_{ik} = y_{ik} - p_{k,m-1(x_i)}$"
     ]
    },
    {
     "cell_type": "markdown",
     "metadata": {},
     "source": [
      "\u53f6\u5b50\u8282\u70b9\u503c\u7684\u4f30\u8ba1\uff1a\n",
      "$$\\{r_{jkm}\\} = argmin_{\\gamma_{jk}}\\sum_{i=1}^N \\sum_{k=1}^K \\phi \\left( y_{ik}, F_{k,m-1}(x_i) + \\sum_{j=1}^J\\gamma_{jk}I(x_i \\in R_{jm})\\}\\right)\\qquad(19)$$"
     ]
    },
    {
     "cell_type": "markdown",
     "metadata": {},
     "source": [
      "\u53ef\u4ee5\u901a\u8fc7\u4e00\u6b65Newton-Raphson\u6765\u8fd1\u4f3c\u516c\u5f0f19\uff0c\u4f30\u8ba1\u7ed3\u679c\u4e3a\uff1a\n",
      "$$\\gamma_{jkm} = {K-1\\over K}{\\sum_{x_i \\in R_{jkm}}\\tilde y_{ik} \\over {\\sum_{x_i \\in R_{jkm}}}|\\tilde y_{ik}|(1-|\\tilde y_{ik}|)}$$"
     ]
    },
    {
     "cell_type": "heading",
     "level": 4,
     "metadata": {},
     "source": [
      "Regression"
     ]
    },
    {
     "cell_type": "markdown",
     "metadata": {},
     "source": [
      "\u6211\u4eec\u4f7f\u7528Least-squares\u4f5c\u4e3a\u635f\u5931\u51fd\u6570\uff1a$$L(y, F) = {(y-F)^2\\over 2}$$"
     ]
    },
    {
     "cell_type": "markdown",
     "metadata": {},
     "source": [
      "\u8ba1\u7b97\u6b8b\u5dee\uff1a$$\\tilde y_i = -[{\\partial L(y,F(x_i)) \\over \\partial F(x_i)}]_{F(x) = F_{m-1}(x)} = {y_i - F_{m-1}(x_i)}\\qquad(20)$$"
     ]
    },
    {
     "cell_type": "markdown",
     "metadata": {},
     "source": [
      "\u53f6\u5b50\u8282\u70b9\u503c\u7684\u4f30\u8ba1\uff1a\n",
      "$$\\gamma_{jm} = argmin_\\gamma \\sum_{x_i \\in R_{jm}} {1\\over 2}(y_i - (F_{m-1}(x_i) + \\gamma))^2\\qquad (21)$$\n",
      "$$\\gamma_{jm} = argmin_\\gamma \\sum_{x_i \\in R_{jm}} {1\\over 2}(y_i - F_{m-1}(x_i) - \\gamma)^2$$\n",
      "$$\\gamma_{jm} = argmin_\\gamma \\sum_{x_i \\in R_{jm}} {1\\over 2}(\\tilde y_i -  \\gamma)^2$$"
     ]
    },
    {
     "cell_type": "markdown",
     "metadata": {},
     "source": [
      "\u5bb9\u6613\u5f97\u51fa\u4ee5\u4e0b\u7ed3\u679c\uff1a$$\\gamma_{jm} = ave_{x_i \\in R_{jm}} \\tilde y_i$$"
     ]
    },
    {
     "cell_type": "heading",
     "level": 4,
     "metadata": {},
     "source": [
      "\u56de\u5f52\u6811\u7684\u521b\u5efa"
     ]
    },
    {
     "cell_type": "markdown",
     "metadata": {},
     "source": [
      "\u62df\u5408\u6b8b\u6570\u662f\u4e00\u4e2a\u56de\u5f52\u95ee\u9898\uff0c\u6240\u4ee5\u5728\u5206\u5272\u6837\u672c\u65f6\uff0c\u6211\u4eec\u4e0d\u4f1a\u91c7\u7528\u57fa\u5c3c\u6307\u6570\uff08Gini\uff09\u3001\u4fe1\u606f\u589e\u76ca\uff08IG\uff09\u7b49\u7528\u4e8e\u5206\u7c7b\u7684\u6807\u51c6\u3002  \n",
      "\u6211\u4eec\u53ef\u4ee5\u9009\u7528MSE(mean square error impurity criterion)\u4f5c\u4e3a\u5206\u5272\u6837\u672c\u7684\u6807\u51c6\u3002\n",
      "\u4e5f\u53ef\u662f\u91c7\u7528Friedman\u5728\u8bba\u6587\u4e2d\u7684the least-squares improvement criterion\uff0c\u516c\u5f0f\u5982\u4e0b\uff1a\n",
      "$$i_2(R_l, R_r) = {w_lw_r\\over w_l + w_r}(\\bar y_l - \\bar y_r)^2$$"
     ]
    },
    {
     "cell_type": "markdown",
     "metadata": {},
     "source": [
      "\u5176\u4e2d$\\bar y_l \\, \\bar y_r$\u5206\u522b\u662f\u5de6\u53f3\u5b69\u5b50\u7684\u5e73\u5747\u503c\uff0c$w_l \\, w_r$\u5206\u522b\u662f\u5de6\u53f3\u5b69\u5b50\u5bf9\u5e94\u7684\u6743\u91cd\u548c"
     ]
    },
    {
     "cell_type": "markdown",
     "metadata": {},
     "source": [
      "\u672c\u6587\u662f\u9488\u5bf9\u5177\u4f53\u7684\u635f\u5931\u51fd\u6570\u8fdb\u884c\u7684\u76f8\u5173\u63a8\u5bfc\uff0c\u6cdb\u5316\u80fd\u529b\u5dee\uff0c\u5927\u5bb6\u53ef\u4ee5\u53c2\u8003xgboost\u4f5c\u8005\u7684\u8fd9\u7bc7[\u6587\u7ae0](http://www.52cs.org/?p=429)\uff0c\u4f5c\u8005\u8fdb\u884c\u4e86\u66f4\u52a0\u4e00\u822c\u7684\u63a8\u5bfc\uff0c\u8fd9\u4e00\u4e2a\u62bd\u8c61\u7684\u5f62\u5f0f\u5bf9\u4e8e\u5b9e\u73b0\u673a\u5668\u5b66\u4e60\u5de5\u5177\u4e5f\u662f\u975e\u5e38\u6709\u5e2e\u52a9\u7684\u3002"
     ]
    },
    {
     "cell_type": "markdown",
     "metadata": {},
     "source": [
      "\u5f15\u7528\uff1a  \n",
      "Greedy Function Approximation: A Gradient Boosting Machine"
     ]
    }
   ],
   "metadata": {}
  }
 ]
}